{
 "cells": [
  {
   "cell_type": "code",
   "execution_count": 2,
   "metadata": {},
   "outputs": [
    {
     "name": "stdout",
     "output_type": "stream",
     "text": [
      "password is : ulo365-*+\n",
      "9\n"
     ]
    }
   ],
   "source": [
    "import random\n",
    "alpha=['A','B','C','D','E','F','G','H','I''J','K','L','M','N','O','P','Q','R','S','T','U','V','W','X','Y','Z','a','b','c','d','e','f','g','h','i','j','k','l','m','n','o','p','q','r','s','t','u','v','w','x','y','z']\n",
    "n=['1','2','3','4','5','6','7','8','9','0']\n",
    "special=['!','@','#','$','%','&','^','*','(',')','-','+','_']\n",
    "\n",
    "n_alpha=int(input(\"how many letters would you like in your password \"))\n",
    "s_symbols=int(input(\"how many special symbols would you like:\"))\n",
    "n_numbers=int(input(\"how many number would you like \"))\n",
    "password=\"\"\n",
    "\n",
    "\n",
    "# for alphabets\n",
    "for i in range(1,n_alpha+1):\n",
    "    ele=random.choice(alpha)\n",
    "    password +=ele\n",
    "\n",
    "# for number\n",
    "for i in range(1,n_numbers+1):\n",
    "    ele=random.choice(n)\n",
    "    password +=ele\n",
    "\n",
    "# for special characters\n",
    "for i in range(s_symbols+1):\n",
    "    ele=random.choice(special)\n",
    "    password +=ele\n",
    "\n",
    "print(\"password is :\",password)\n",
    "\n",
    "print(len(password))"
   ]
  }
 ],
 "metadata": {
  "kernelspec": {
   "display_name": "Python 3",
   "language": "python",
   "name": "python3"
  },
  "language_info": {
   "codemirror_mode": {
    "name": "ipython",
    "version": 3
   },
   "file_extension": ".py",
   "mimetype": "text/x-python",
   "name": "python",
   "nbconvert_exporter": "python",
   "pygments_lexer": "ipython3",
   "version": "3.12.1"
  }
 },
 "nbformat": 4,
 "nbformat_minor": 2
}
