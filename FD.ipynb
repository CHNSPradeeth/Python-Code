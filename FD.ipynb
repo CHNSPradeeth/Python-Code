{
 "cells": [
  {
   "cell_type": "code",
   "execution_count": null,
   "metadata": {},
   "outputs": [],
   "source": [
    "import cv2\n",
    "#importing the cascade xml file\n",
    "a = cv2.CascadeClassifier(\"haarcascade_frontalface_default.xml\")\n",
    "# excess of the capturing the video\n",
    "b = cv2.VideoCapture(0)\n",
    "while True:\n",
    "    #c represents the rectangle and d represents the image of the user\n",
    "    c,d = b.read()\n",
    "    #converting the BGR to Gray color\n",
    "    e = cv2.cvtColor(d, cv2.COLOR_BGR2GRAY)\n",
    "    f = a.detectMultiScale(e, 1.3,6)\n",
    "    for (x1,y1,w1,h1) in f:\n",
    "        #x1and w1 are vertical line and y1 and h1 are horizental line , 10 is width ,(blue,green,red)\n",
    "        cv2.rectangle(d,(x1,y1),(x1+w1,y1+h1),(0,0,255),10)\n",
    "    cv2.imshow('img',d)\n",
    "    # time limit(sec) to detect the image\n",
    "    h = cv2.waitKey(10) & 0xff\n",
    "    if h == 10:\n",
    "        break\n",
    "#exit from the video\n",
    "b.release()\n",
    "# exit from all the windows\n",
    "cv2.destroyAllWindows()\n"
   ]
  }
 ],
 "metadata": {
  "kernelspec": {
   "display_name": "Python 3",
   "language": "python",
   "name": "python3"
  },
  "language_info": {
   "codemirror_mode": {
    "name": "ipython",
    "version": 3
   },
   "file_extension": ".py",
   "mimetype": "text/x-python",
   "name": "python",
   "nbconvert_exporter": "python",
   "pygments_lexer": "ipython3",
   "version": "3.12.1"
  }
 },
 "nbformat": 4,
 "nbformat_minor": 2
}
