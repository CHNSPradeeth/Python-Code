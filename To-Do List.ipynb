{
 "cells": [
  {
   "cell_type": "code",
   "execution_count": 1,
   "metadata": {},
   "outputs": [],
   "source": [
    "from tkinter import messagebox\n",
    "import tkinter as tk\n",
    "\n",
    "# Function to be called when button is clicked\n",
    "def add_Button():\n",
    "    task=Input.get()\n",
    "    if task:\n",
    "        List.insert(tk.END,task)\n",
    "        Input.delete(0,tk.END)\n",
    "\n",
    "\n",
    "\n",
    "def del_Button():\n",
    "    try:\n",
    "        task=List.curselection()[0]\n",
    "        List.delete(task)\n",
    "    except IndexError:\n",
    "        messagebox.showwarning(\"Selection Error\", \"Please select a task to delete.\")\n",
    "\n",
    "\n",
    "\n",
    "# Create the main window\n",
    "window = tk.Tk()\n",
    "window.title(\"Task Manager\")\n",
    "window.geometry(\"500x500\")\n",
    "window.resizable(False,False)\n",
    "window.config(bg=\"light grey\")\n",
    "\n",
    "# text filed\n",
    "Input=tk.Entry(window,width=50)\n",
    "Input.grid(row=0,column=0,padx=20,pady=60)\n",
    "Input.focus()\n",
    "\n",
    "# Create the button\n",
    "add =tk.Button(window, text=\"ADD TASK\", height=2, width=9, command=add_Button)\n",
    "add.grid(row=0, column=1, padx=20, pady=0)\n",
    "\n",
    "delete=tk.Button(window,text=\"DELETE TASK\", height=2,width=10,command=del_Button)\n",
    "delete.grid(row=1,column=1)\n",
    "\n",
    "# creating list box\n",
    "List=tk.Listbox(window,width=50,height=20)\n",
    "List.grid(row=1,column=0)\n",
    "\n",
    "\n",
    "\n",
    "\n",
    "window.mainloop()"
   ]
  }
 ],
 "metadata": {
  "kernelspec": {
   "display_name": "Python 3",
   "language": "python",
   "name": "python3"
  },
  "language_info": {
   "codemirror_mode": {
    "name": "ipython",
    "version": 3
   },
   "file_extension": ".py",
   "mimetype": "text/x-python",
   "name": "python",
   "nbconvert_exporter": "python",
   "pygments_lexer": "ipython3",
   "version": "3.12.1"
  }
 },
 "nbformat": 4,
 "nbformat_minor": 2
}
